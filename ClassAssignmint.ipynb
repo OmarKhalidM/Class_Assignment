{
 "cells": [
  {
   "cell_type": "markdown",
   "id": "d1465427-7222-4992-9088-34413fb85093",
   "metadata": {},
   "source": [
    "Task 1: Rectangle class"
   ]
  },
  {
   "cell_type": "code",
   "execution_count": null,
   "id": "078a9e84-080e-47a5-a56e-6668a8eb594c",
   "metadata": {},
   "outputs": [],
   "source": [
    "#   1) ceating the class\n",
    "class Rectangle :   \n",
    "    def __init__(self,length,width):\n",
    "        self.len=length\n",
    "        self.wid=width\n",
    "#--------------------------------------------------------\n",
    "#   2) the Perimere and Area methods\n",
    "    def area(self):\n",
    "        return self.len*self.wid          \n",
    "    def Perimeter(self):                  \n",
    "        return (2*(self.len+self.wid)) \n",
    "#--------------------------------------------------------\n",
    "#   3)The Display Method\n",
    "    def display(self):                                 \n",
    "        return (self.len,self.wid,self.area(),self.Perimeter()) # ======>>> \n",
    "    "
   ]
  },
  {
   "cell_type": "code",
   "execution_count": null,
   "id": "98087a6f-e9e0-4708-98c2-11b50fd1a1c1",
   "metadata": {},
   "outputs": [
    {
     "name": "stdout",
     "output_type": "stream",
     "text": [
      "(2, 3, 6, 10)\n"
     ]
    }
   ],
   "source": [
    "R1=Rectangle(2,3)\n",
    "print(R1.display())"
   ]
  },
  {
   "cell_type": "code",
   "execution_count": 24,
   "id": "a750035a-8e31-493c-b398-60eca5462375",
   "metadata": {},
   "outputs": [],
   "source": [
    "#   4) Parallelepipede child class\n",
    "class Parallelepipede(Rectangle):\n",
    "    def __init__(self,length,width,height):\n",
    "        super().__init__(length,width)\n",
    "        self.hei=height\n",
    "    def Volume(self):\n",
    "        return (self.len*self.wid*self.hei)"
   ]
  },
  {
   "cell_type": "code",
   "execution_count": 25,
   "id": "1e75c3a5-1ae1-4828-b02d-c738b3710f06",
   "metadata": {},
   "outputs": [
    {
     "data": {
      "text/plain": [
       "8"
      ]
     },
     "execution_count": 25,
     "metadata": {},
     "output_type": "execute_result"
    }
   ],
   "source": [
    "R2=Parallelepipede(2,2,2)\n",
    "R2.Volume() "
   ]
  },
  {
   "cell_type": "markdown",
   "id": "467d13cf-ef04-4000-b2f9-f1a1e54cca93",
   "metadata": {},
   "source": [
    "Task 2: Person class and child Student class \n"
   ]
  },
  {
   "cell_type": "code",
   "execution_count": 27,
   "id": "fec4c03e-b027-4b95-9173-a2810cdc0d5e",
   "metadata": {},
   "outputs": [],
   "source": [
    "#    class Person\n",
    "class Person :\n",
    "    def __init__(self,name,age):\n",
    "        self.N=name\n",
    "        self.G=age\n",
    "#--------------------------------------------------------\n",
    "#    1) the DisplayMethod\n",
    "    def Display_inf(self):\n",
    "        return (self.N,self.G)  "
   ]
  },
  {
   "cell_type": "code",
   "execution_count": 36,
   "id": "667fa5da-dd39-41fe-879a-a9c437fe402e",
   "metadata": {},
   "outputs": [
    {
     "data": {
      "text/plain": [
       "('Omar Khalid Mahmmoud', 21, 'AI And Data Analis')"
      ]
     },
     "execution_count": 36,
     "metadata": {},
     "output_type": "execute_result"
    }
   ],
   "source": [
    "#   2)The Student Child CLass\n",
    "class Student(Person):  \n",
    "    def __init__(self,name,age,section):\n",
    "        super().__init__(name,age)\n",
    "        self.sec=section\n",
    "#--------------------------------------------------------\n",
    "#   3)Displsy Methodstudent Information\n",
    "    def DisplaySt(self): \n",
    "        return(self.N,self.G,self.sec)\n",
    "#--------------------------------------------------------\n",
    "#   4)The Display Student Test\n",
    "S1=Student('Omar Khalid Mahmmoud', 21 , \"AI And Data Analis\") #====> The Opject From The Class\n",
    "S1.DisplaySt() "
   ]
  },
  {
   "cell_type": "markdown",
   "id": "d5922191-4d63-466e-adac-c813fc4877d2",
   "metadata": {},
   "source": [
    "Task 3. Computation class "
   ]
  },
  {
   "cell_type": "code",
   "execution_count": 91,
   "id": "dd0efc01-bb0d-4626-90a2-89edaaf78fc8",
   "metadata": {},
   "outputs": [],
   "source": [
    "#   1) The Class with the Defult constractor\n",
    "class Computation:\n",
    "    def __init__(self):\n",
    "        pass\n",
    "#--------------------------------------------------------\n",
    "#   2)The factorial Method    \n",
    "    def Fac(self,n):      \n",
    "        i=1  \n",
    "        for j in range(1,n+1):\n",
    "            i=i*j\n",
    "        return i\n",
    "#--------------------------------------------------------\n",
    "#   3) The Sum Of First Elemints\n",
    "    def Sum (self,n):\n",
    "        i=0  \n",
    "        for j in range(1,n+1):\n",
    "            i=i+j\n",
    "        return i\n",
    "#--------------------------------------------------------\n",
    "#   4) test the primality of a given integer\n",
    "    def Tprime (self,num):\n",
    "        for i in range (1,num):\n",
    "            if num%i == 0 : # then the number culed divid on other number\n",
    "                return False\n",
    "            else:  # then it's not only it self\n",
    "                return True\n",
    "#--------------------------------------------------------\n",
    "#   4_1)test if ther is two numbers are prime between them.\n",
    "    def Tprimes (self,N,M):\n",
    "        for i in range (N,M):\n",
    "            if (N%i == 0 and M%i==0):  \n",
    "                return False\n",
    "            else:  \n",
    "                return True\n",
    "\n",
    "#--------------------------------------------------------\n",
    "#    5)multiplication table of a given integer\n",
    "    def TableMult (self, n):\n",
    "        for i in range (1,10):\n",
    "            print (i, \"x\", n, \"=\", i * n)\n",
    "# - - - - - - - - - - - - - - - - - - - - ---------------\n",
    "#    All multiplication tables of the numbers 1, 2, .., 9\n",
    "    def AllTables (self):\n",
    "        for j in range (1,10):\n",
    "            for i in range (1,10):\n",
    "                print (i, \"x\", j, \"=\", i * j)\n",
    "#--------------------------------------------------------\n",
    "#    6) cannot solv it"
   ]
  },
  {
   "cell_type": "code",
   "execution_count": 88,
   "id": "2cfc33f2-880d-4bb3-8958-25bc329cc9b8",
   "metadata": {},
   "outputs": [
    {
     "name": "stdout",
     "output_type": "stream",
     "text": [
      "24 10\n"
     ]
    }
   ],
   "source": [
    "F=Computation()\n",
    "print(F.Fac(4),F.Sum(4))"
   ]
  },
  {
   "cell_type": "code",
   "execution_count": 89,
   "id": "9e2bba7d-eede-49c2-8a18-359e2a3a9a6f",
   "metadata": {},
   "outputs": [
    {
     "name": "stdout",
     "output_type": "stream",
     "text": [
      "False\n"
     ]
    }
   ],
   "source": [
    "print(F.Tprime(4))"
   ]
  },
  {
   "cell_type": "code",
   "execution_count": 90,
   "id": "30505d42-a22e-48b2-8be7-8e5718900c17",
   "metadata": {},
   "outputs": [
    {
     "name": "stdout",
     "output_type": "stream",
     "text": [
      "True\n"
     ]
    }
   ],
   "source": [
    "print(F.Tprimes(3,8))"
   ]
  },
  {
   "cell_type": "code",
   "execution_count": 92,
   "id": "880d5564-11a2-429b-9e21-9a0081b3edb6",
   "metadata": {},
   "outputs": [
    {
     "name": "stdout",
     "output_type": "stream",
     "text": [
      "1 x 5 = 5\n",
      "2 x 5 = 10\n",
      "3 x 5 = 15\n",
      "4 x 5 = 20\n",
      "5 x 5 = 25\n",
      "6 x 5 = 30\n",
      "7 x 5 = 35\n",
      "8 x 5 = 40\n",
      "9 x 5 = 45\n",
      "None\n"
     ]
    }
   ],
   "source": [
    "print(F.TableMult(5))"
   ]
  },
  {
   "cell_type": "code",
   "execution_count": 94,
   "id": "43b53279-96e4-4a22-9fe8-ff42747ca6a0",
   "metadata": {},
   "outputs": [
    {
     "name": "stdout",
     "output_type": "stream",
     "text": [
      "1 x 1 = 1\n",
      "2 x 1 = 2\n",
      "3 x 1 = 3\n",
      "4 x 1 = 4\n",
      "5 x 1 = 5\n",
      "6 x 1 = 6\n",
      "7 x 1 = 7\n",
      "8 x 1 = 8\n",
      "9 x 1 = 9\n",
      "1 x 2 = 2\n",
      "2 x 2 = 4\n",
      "3 x 2 = 6\n",
      "4 x 2 = 8\n",
      "5 x 2 = 10\n",
      "6 x 2 = 12\n",
      "7 x 2 = 14\n",
      "8 x 2 = 16\n",
      "9 x 2 = 18\n",
      "1 x 3 = 3\n",
      "2 x 3 = 6\n",
      "3 x 3 = 9\n",
      "4 x 3 = 12\n",
      "5 x 3 = 15\n",
      "6 x 3 = 18\n",
      "7 x 3 = 21\n",
      "8 x 3 = 24\n",
      "9 x 3 = 27\n",
      "1 x 4 = 4\n",
      "2 x 4 = 8\n",
      "3 x 4 = 12\n",
      "4 x 4 = 16\n",
      "5 x 4 = 20\n",
      "6 x 4 = 24\n",
      "7 x 4 = 28\n",
      "8 x 4 = 32\n",
      "9 x 4 = 36\n",
      "1 x 5 = 5\n",
      "2 x 5 = 10\n",
      "3 x 5 = 15\n",
      "4 x 5 = 20\n",
      "5 x 5 = 25\n",
      "6 x 5 = 30\n",
      "7 x 5 = 35\n",
      "8 x 5 = 40\n",
      "9 x 5 = 45\n",
      "1 x 6 = 6\n",
      "2 x 6 = 12\n",
      "3 x 6 = 18\n",
      "4 x 6 = 24\n",
      "5 x 6 = 30\n",
      "6 x 6 = 36\n",
      "7 x 6 = 42\n",
      "8 x 6 = 48\n",
      "9 x 6 = 54\n",
      "1 x 7 = 7\n",
      "2 x 7 = 14\n",
      "3 x 7 = 21\n",
      "4 x 7 = 28\n",
      "5 x 7 = 35\n",
      "6 x 7 = 42\n",
      "7 x 7 = 49\n",
      "8 x 7 = 56\n",
      "9 x 7 = 63\n",
      "1 x 8 = 8\n",
      "2 x 8 = 16\n",
      "3 x 8 = 24\n",
      "4 x 8 = 32\n",
      "5 x 8 = 40\n",
      "6 x 8 = 48\n",
      "7 x 8 = 56\n",
      "8 x 8 = 64\n",
      "9 x 8 = 72\n",
      "1 x 9 = 9\n",
      "2 x 9 = 18\n",
      "3 x 9 = 27\n",
      "4 x 9 = 36\n",
      "5 x 9 = 45\n",
      "6 x 9 = 54\n",
      "7 x 9 = 63\n",
      "8 x 9 = 72\n",
      "9 x 9 = 81\n",
      "None\n"
     ]
    }
   ],
   "source": [
    "print(F.AllTables())"
   ]
  },
  {
   "cell_type": "code",
   "execution_count": null,
   "id": "5ef38762-ec76-4202-8a0b-28e8ffe26821",
   "metadata": {},
   "outputs": [],
   "source": []
  }
 ],
 "metadata": {
  "kernelspec": {
   "display_name": "Python 3 (ipykernel)",
   "language": "python",
   "name": "python3"
  },
  "language_info": {
   "codemirror_mode": {
    "name": "ipython",
    "version": 3
   },
   "file_extension": ".py",
   "mimetype": "text/x-python",
   "name": "python",
   "nbconvert_exporter": "python",
   "pygments_lexer": "ipython3",
   "version": "3.9.13"
  }
 },
 "nbformat": 4,
 "nbformat_minor": 5
}
